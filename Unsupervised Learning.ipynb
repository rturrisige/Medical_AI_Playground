{
 "cells": [
  {
   "cell_type": "markdown",
   "metadata": {
    "id": "9z9QvrkUPiI_"
   },
   "source": [
    "# **Unsupervised Learning**\n",
    "\n",
    "#### This notebook has been created by Rosanna Turrisi (rosanna.turrisi@edu.unige.it) for students and young reasearchers approaching to Machine Learning in Medicine."
   ]
  },
  {
   "cell_type": "markdown",
   "metadata": {},
   "source": [
    "The goal of this notebook is to get familiar with some standard unsupervised analysis. We will perform the analysis on rna-seq data, to get familiar with the concepts.\n"
   ]
  },
  {
   "cell_type": "markdown",
   "metadata": {
    "id": "xJpoNsQSQBxD"
   },
   "source": [
    "## Getting Started : installing some packages"
   ]
  },
  {
   "cell_type": "markdown",
   "metadata": {
    "id": "-SGl3RQY6udX"
   },
   "source": [
    "\n",
    "This is an interactive Python notebook. To run it, you don't need to install anything on your PC since the script is executed in the cloud. On the left tab, you can see the 'Files' folder, in which data and results will be saved.\n",
    "\n",
    "First of all, the needed Python packages have to be uploaded. I recommend you get acquainted with getting documentation and help on these packages. For example, google 'python sklearn' and you will get to the documentation quickly. Importing libraries is a necessary step with most progamming languages, not only Python."
   ]
  },
  {
   "cell_type": "code",
   "execution_count": 1,
   "metadata": {
    "id": "3xBaHUSqPiI2"
   },
   "outputs": [],
   "source": [
    "import numpy as np \n",
    "import matplotlib.pyplot as plt #plots\n",
    "import pandas as pd #data handling\n",
    "from sklearn import metrics\n",
    "from sklearn.decomposition import PCA # dimensionality reduction\n",
    "import yellowbrick #extension of sklearn for dataviz and model selection"
   ]
  },
  {
   "cell_type": "markdown",
   "metadata": {
    "id": "QET8QofQPiI7"
   },
   "source": [
    "**Answer to the <font color='red'>red questions</font> below.**"
   ]
  },
  {
   "cell_type": "markdown",
   "metadata": {
    "id": "DUDtGrHHPiJA"
   },
   "source": [
    "## **Data loading and visualization**\n",
    "\n",
    "First, we download the dataset (X, Y) from a web archive."
   ]
  },
  {
   "cell_type": "code",
   "execution_count": 2,
   "metadata": {
    "id": "OarZwJL4PiJC"
   },
   "outputs": [],
   "source": [
    "import os\n",
    "import tarfile\n",
    "import urllib.request as urllib\n",
    "\n",
    "# Download the full data file at https://archive.ics.uci.edu/ml/machine-learning-databases/00401/TCGA-PANCAN-HiSeq-801x20531.tar.gz\n",
    "host = 'https://archive.ics.uci.edu/ml/machine-learning-databases/00401/'\n",
    "filename = 'TCGA-PANCAN-HiSeq-801x20531.tar.gz'\n",
    "urllib.urlretrieve (host+filename, filename)\n",
    "\n",
    "# Extract the tar.gz archive into a folder\n",
    "tar = tarfile.open(filename)\n",
    "tar.extractall()\n",
    "tar.close()\n",
    "\n",
    "# Get the folder name\n",
    "path = filename.split('.')[0]"
   ]
  },
  {
   "cell_type": "markdown",
   "metadata": {
    "id": "VcYhIseCPiJD"
   },
   "source": [
    "Let's inspect the content of the folder `path`."
   ]
  },
  {
   "cell_type": "code",
   "execution_count": 4,
   "metadata": {
    "colab": {
     "base_uri": "https://localhost:8080/"
    },
    "executionInfo": {
     "elapsed": 259,
     "status": "ok",
     "timestamp": 1678700705888,
     "user": {
      "displayName": "Rosanna Turrisi",
      "userId": "01911198643618133016"
     },
     "user_tz": -60
    },
    "id": "Qks9RofuPiJD",
    "outputId": "085a9582-6042-44d0-e05a-e7dc1dd5f7e6"
   },
   "outputs": [
    {
     "name": "stdout",
     "output_type": "stream",
     "text": [
      "['labels.csv', 'data.csv']\n"
     ]
    }
   ],
   "source": [
    "print(os.listdir(path))"
   ]
  },
  {
   "cell_type": "markdown",
   "metadata": {
    "id": "_NHVh9mbPiJF"
   },
   "source": [
    "Let's now load the two files `data.csv` and `labels.csv` in two `pandas` dataframes objects(http://pandas.pydata.org/pandas-docs/stable/generated/pandas.DataFrame.html).\n",
    "In order to do that we can take advantage of the function `pd.read_csv(filename, header=0, index_col=0)`. We can inspect the content of them by using the `head()` method."
   ]
  },
  {
   "cell_type": "code",
   "execution_count": 5,
   "metadata": {
    "colab": {
     "base_uri": "https://localhost:8080/",
     "height": 317
    },
    "executionInfo": {
     "elapsed": 9562,
     "status": "ok",
     "timestamp": 1678700744729,
     "user": {
      "displayName": "Rosanna Turrisi",
      "userId": "01911198643618133016"
     },
     "user_tz": -60
    },
    "id": "VxK4avNYPiJG",
    "outputId": "7060fce8-a998-440f-b63c-5f894974d61a"
   },
   "outputs": [
    {
     "name": "stdout",
     "output_type": "stream",
     "text": [
      "Data matrix shape: (801, 20531)\n"
     ]
    },
    {
     "data": {
      "text/html": [
       "<div>\n",
       "<style scoped>\n",
       "    .dataframe tbody tr th:only-of-type {\n",
       "        vertical-align: middle;\n",
       "    }\n",
       "\n",
       "    .dataframe tbody tr th {\n",
       "        vertical-align: top;\n",
       "    }\n",
       "\n",
       "    .dataframe thead th {\n",
       "        text-align: right;\n",
       "    }\n",
       "</style>\n",
       "<table border=\"1\" class=\"dataframe\">\n",
       "  <thead>\n",
       "    <tr style=\"text-align: right;\">\n",
       "      <th></th>\n",
       "      <th>gene_0</th>\n",
       "      <th>gene_1</th>\n",
       "      <th>gene_2</th>\n",
       "      <th>gene_3</th>\n",
       "      <th>gene_4</th>\n",
       "      <th>gene_5</th>\n",
       "      <th>gene_6</th>\n",
       "      <th>gene_7</th>\n",
       "      <th>gene_8</th>\n",
       "      <th>gene_9</th>\n",
       "      <th>...</th>\n",
       "      <th>gene_20521</th>\n",
       "      <th>gene_20522</th>\n",
       "      <th>gene_20523</th>\n",
       "      <th>gene_20524</th>\n",
       "      <th>gene_20525</th>\n",
       "      <th>gene_20526</th>\n",
       "      <th>gene_20527</th>\n",
       "      <th>gene_20528</th>\n",
       "      <th>gene_20529</th>\n",
       "      <th>gene_20530</th>\n",
       "    </tr>\n",
       "  </thead>\n",
       "  <tbody>\n",
       "    <tr>\n",
       "      <th>sample_0</th>\n",
       "      <td>0.0</td>\n",
       "      <td>2.017209</td>\n",
       "      <td>3.265527</td>\n",
       "      <td>5.478487</td>\n",
       "      <td>10.431999</td>\n",
       "      <td>0.0</td>\n",
       "      <td>7.175175</td>\n",
       "      <td>0.591871</td>\n",
       "      <td>0.0</td>\n",
       "      <td>0.0</td>\n",
       "      <td>...</td>\n",
       "      <td>4.926711</td>\n",
       "      <td>8.210257</td>\n",
       "      <td>9.723516</td>\n",
       "      <td>7.220030</td>\n",
       "      <td>9.119813</td>\n",
       "      <td>12.003135</td>\n",
       "      <td>9.650743</td>\n",
       "      <td>8.921326</td>\n",
       "      <td>5.286759</td>\n",
       "      <td>0.0</td>\n",
       "    </tr>\n",
       "    <tr>\n",
       "      <th>sample_1</th>\n",
       "      <td>0.0</td>\n",
       "      <td>0.592732</td>\n",
       "      <td>1.588421</td>\n",
       "      <td>7.586157</td>\n",
       "      <td>9.623011</td>\n",
       "      <td>0.0</td>\n",
       "      <td>6.816049</td>\n",
       "      <td>0.000000</td>\n",
       "      <td>0.0</td>\n",
       "      <td>0.0</td>\n",
       "      <td>...</td>\n",
       "      <td>4.593372</td>\n",
       "      <td>7.323865</td>\n",
       "      <td>9.740931</td>\n",
       "      <td>6.256586</td>\n",
       "      <td>8.381612</td>\n",
       "      <td>12.674552</td>\n",
       "      <td>10.517059</td>\n",
       "      <td>9.397854</td>\n",
       "      <td>2.094168</td>\n",
       "      <td>0.0</td>\n",
       "    </tr>\n",
       "    <tr>\n",
       "      <th>sample_2</th>\n",
       "      <td>0.0</td>\n",
       "      <td>3.511759</td>\n",
       "      <td>4.327199</td>\n",
       "      <td>6.881787</td>\n",
       "      <td>9.870730</td>\n",
       "      <td>0.0</td>\n",
       "      <td>6.972130</td>\n",
       "      <td>0.452595</td>\n",
       "      <td>0.0</td>\n",
       "      <td>0.0</td>\n",
       "      <td>...</td>\n",
       "      <td>5.125213</td>\n",
       "      <td>8.127123</td>\n",
       "      <td>10.908640</td>\n",
       "      <td>5.401607</td>\n",
       "      <td>9.911597</td>\n",
       "      <td>9.045255</td>\n",
       "      <td>9.788359</td>\n",
       "      <td>10.090470</td>\n",
       "      <td>1.683023</td>\n",
       "      <td>0.0</td>\n",
       "    </tr>\n",
       "    <tr>\n",
       "      <th>sample_3</th>\n",
       "      <td>0.0</td>\n",
       "      <td>3.663618</td>\n",
       "      <td>4.507649</td>\n",
       "      <td>6.659068</td>\n",
       "      <td>10.196184</td>\n",
       "      <td>0.0</td>\n",
       "      <td>7.843375</td>\n",
       "      <td>0.434882</td>\n",
       "      <td>0.0</td>\n",
       "      <td>0.0</td>\n",
       "      <td>...</td>\n",
       "      <td>6.076566</td>\n",
       "      <td>8.792959</td>\n",
       "      <td>10.141520</td>\n",
       "      <td>8.942805</td>\n",
       "      <td>9.601208</td>\n",
       "      <td>11.392682</td>\n",
       "      <td>9.694814</td>\n",
       "      <td>9.684365</td>\n",
       "      <td>3.292001</td>\n",
       "      <td>0.0</td>\n",
       "    </tr>\n",
       "    <tr>\n",
       "      <th>sample_4</th>\n",
       "      <td>0.0</td>\n",
       "      <td>2.655741</td>\n",
       "      <td>2.821547</td>\n",
       "      <td>6.539454</td>\n",
       "      <td>9.738265</td>\n",
       "      <td>0.0</td>\n",
       "      <td>6.566967</td>\n",
       "      <td>0.360982</td>\n",
       "      <td>0.0</td>\n",
       "      <td>0.0</td>\n",
       "      <td>...</td>\n",
       "      <td>5.996032</td>\n",
       "      <td>8.891425</td>\n",
       "      <td>10.373790</td>\n",
       "      <td>7.181162</td>\n",
       "      <td>9.846910</td>\n",
       "      <td>11.922439</td>\n",
       "      <td>9.217749</td>\n",
       "      <td>9.461191</td>\n",
       "      <td>5.110372</td>\n",
       "      <td>0.0</td>\n",
       "    </tr>\n",
       "  </tbody>\n",
       "</table>\n",
       "<p>5 rows × 20531 columns</p>\n",
       "</div>"
      ],
      "text/plain": [
       "          gene_0    gene_1    gene_2    gene_3     gene_4  gene_5    gene_6  \\\n",
       "sample_0     0.0  2.017209  3.265527  5.478487  10.431999     0.0  7.175175   \n",
       "sample_1     0.0  0.592732  1.588421  7.586157   9.623011     0.0  6.816049   \n",
       "sample_2     0.0  3.511759  4.327199  6.881787   9.870730     0.0  6.972130   \n",
       "sample_3     0.0  3.663618  4.507649  6.659068  10.196184     0.0  7.843375   \n",
       "sample_4     0.0  2.655741  2.821547  6.539454   9.738265     0.0  6.566967   \n",
       "\n",
       "            gene_7  gene_8  gene_9  ...  gene_20521  gene_20522  gene_20523  \\\n",
       "sample_0  0.591871     0.0     0.0  ...    4.926711    8.210257    9.723516   \n",
       "sample_1  0.000000     0.0     0.0  ...    4.593372    7.323865    9.740931   \n",
       "sample_2  0.452595     0.0     0.0  ...    5.125213    8.127123   10.908640   \n",
       "sample_3  0.434882     0.0     0.0  ...    6.076566    8.792959   10.141520   \n",
       "sample_4  0.360982     0.0     0.0  ...    5.996032    8.891425   10.373790   \n",
       "\n",
       "          gene_20524  gene_20525  gene_20526  gene_20527  gene_20528  \\\n",
       "sample_0    7.220030    9.119813   12.003135    9.650743    8.921326   \n",
       "sample_1    6.256586    8.381612   12.674552   10.517059    9.397854   \n",
       "sample_2    5.401607    9.911597    9.045255    9.788359   10.090470   \n",
       "sample_3    8.942805    9.601208   11.392682    9.694814    9.684365   \n",
       "sample_4    7.181162    9.846910   11.922439    9.217749    9.461191   \n",
       "\n",
       "          gene_20529  gene_20530  \n",
       "sample_0    5.286759         0.0  \n",
       "sample_1    2.094168         0.0  \n",
       "sample_2    1.683023         0.0  \n",
       "sample_3    3.292001         0.0  \n",
       "sample_4    5.110372         0.0  \n",
       "\n",
       "[5 rows x 20531 columns]"
      ]
     },
     "execution_count": 5,
     "metadata": {},
     "output_type": "execute_result"
    }
   ],
   "source": [
    "data = pd.read_csv(os.path.join(path, 'data.csv'), header=0, index_col=0)\n",
    "print(\"Data matrix shape: {}\".format(data.shape))\n",
    "data.head()"
   ]
  },
  {
   "cell_type": "code",
   "execution_count": 6,
   "metadata": {
    "colab": {
     "base_uri": "https://localhost:8080/",
     "height": 223
    },
    "executionInfo": {
     "elapsed": 300,
     "status": "ok",
     "timestamp": 1678700773048,
     "user": {
      "displayName": "Rosanna Turrisi",
      "userId": "01911198643618133016"
     },
     "user_tz": -60
    },
    "id": "UmtYX183PiJG",
    "outputId": "cc1cf468-46d4-4dc8-96c8-e41637d16045"
   },
   "outputs": [
    {
     "name": "stdout",
     "output_type": "stream",
     "text": [
      "The labels (correspondig to tumors) are: ['BRCA' 'COAD' 'KIRC' 'LUAD' 'PRAD']\n"
     ]
    },
    {
     "data": {
      "text/html": [
       "<div>\n",
       "<style scoped>\n",
       "    .dataframe tbody tr th:only-of-type {\n",
       "        vertical-align: middle;\n",
       "    }\n",
       "\n",
       "    .dataframe tbody tr th {\n",
       "        vertical-align: top;\n",
       "    }\n",
       "\n",
       "    .dataframe thead th {\n",
       "        text-align: right;\n",
       "    }\n",
       "</style>\n",
       "<table border=\"1\" class=\"dataframe\">\n",
       "  <thead>\n",
       "    <tr style=\"text-align: right;\">\n",
       "      <th></th>\n",
       "      <th>Class</th>\n",
       "    </tr>\n",
       "  </thead>\n",
       "  <tbody>\n",
       "    <tr>\n",
       "      <th>sample_0</th>\n",
       "      <td>PRAD</td>\n",
       "    </tr>\n",
       "    <tr>\n",
       "      <th>sample_1</th>\n",
       "      <td>LUAD</td>\n",
       "    </tr>\n",
       "    <tr>\n",
       "      <th>sample_2</th>\n",
       "      <td>PRAD</td>\n",
       "    </tr>\n",
       "    <tr>\n",
       "      <th>sample_3</th>\n",
       "      <td>PRAD</td>\n",
       "    </tr>\n",
       "    <tr>\n",
       "      <th>sample_4</th>\n",
       "      <td>BRCA</td>\n",
       "    </tr>\n",
       "  </tbody>\n",
       "</table>\n",
       "</div>"
      ],
      "text/plain": [
       "         Class\n",
       "sample_0  PRAD\n",
       "sample_1  LUAD\n",
       "sample_2  PRAD\n",
       "sample_3  PRAD\n",
       "sample_4  BRCA"
      ]
     },
     "execution_count": 6,
     "metadata": {},
     "output_type": "execute_result"
    }
   ],
   "source": [
    "labels = pd.read_csv(os.path.join(path, 'labels.csv'), header=0, index_col=0)\n",
    "print(\"The labels (correspondig to tumors) are: {}\".format(np.unique(labels.values)))\n",
    "labels.head()"
   ]
  },
  {
   "cell_type": "markdown",
   "metadata": {
    "id": "CQppQh0nPiJH"
   },
   "source": [
    "The downloaded file is part of a bigger collection available on [Synapse](https://www.synapse.org/#!Synapse:syn300013/files/). This data are part of a study called [The Cancer Genome Atlas (TGCA)](https://cancergenome.nih.gov).\n",
    "We have 5 different labels corresponding to different tumor types, which are:\n",
    "* BRCA (Breast Invasiva Carcinoma) - Primary Site: Breast\n",
    "* COAD (Colon Adenocarcinoma) - Primary site: Colon\n",
    "* KIRC (Kidney Renal Clear Cell Carcinoma) - Primary Site: Kidney\n",
    "* LUAD (Lung Adenocarcinoma) - Primary Site: Bronchus and lung\n",
    "* PRAD (Prostate Adenocarcinoma) - Primary Site: prostate gland.\n",
    "\n",
    "The input data consists of genes. Why are we interesting in genomics in cancer care?\n",
    "\n",
    "*Cancer is a disease of the genome. It occurs when changes in a person’s genome – their DNA – result in cells growing and dividing uncontrollably. These genomic changes – or variants – can be inherited from a parent or acquired at some point during a person’s lifetime. Most cancers are caused by acquired genomic variants. In around 5% of cases, however, the individual has inherited a variant that greatly increases their chances of developing cancer*"
   ]
  },
  {
   "cell_type": "markdown",
   "metadata": {},
   "source": [
    "# Let's start working\n",
    "`pandas` is a very powerful tool, but for the following exercises we simply need to extract the content of the two\n",
    "`DataFrame` objects and to save them into `numpy` arrays. We can do that using the method `to_numpy`."
   ]
  },
  {
   "cell_type": "markdown",
   "metadata": {
    "id": "cVze9X3dpyFf"
   },
   "source": [
    "### **Data matrix X**\n",
    "\n",
    "Transform the table into a matrix"
   ]
  },
  {
   "cell_type": "code",
   "execution_count": 8,
   "metadata": {
    "id": "IlX8AF2qPiJI"
   },
   "outputs": [],
   "source": [
    "X = data.to_numpy()"
   ]
  },
  {
   "cell_type": "code",
   "execution_count": 9,
   "metadata": {
    "colab": {
     "base_uri": "https://localhost:8080/"
    },
    "executionInfo": {
     "elapsed": 342,
     "status": "ok",
     "timestamp": 1678700916658,
     "user": {
      "displayName": "Rosanna Turrisi",
      "userId": "01911198643618133016"
     },
     "user_tz": -60
    },
    "id": "8vyoNG2Wp3Mq",
    "outputId": "01a7def0-ca6e-49a3-fbcf-8d74037c9f2a"
   },
   "outputs": [
    {
     "name": "stdout",
     "output_type": "stream",
     "text": [
      "X dimension: (100, 1000)\n",
      "N. features: 1000\n",
      "N. samples: 100\n",
      "\n"
     ]
    }
   ],
   "source": [
    "print('X dimension:', X.shape)\n",
    "print('N. features:', X.shape[1])\n",
    "print('N. samples:', X.shape[0])\n",
    "print('')"
   ]
  },
  {
   "cell_type": "markdown",
   "metadata": {
    "id": "FqWW1bO_PiJL"
   },
   "source": [
    "**Data Visualization** \n",
    "\n",
    "The dimensionality of our dataset is 20531, it's way too big to be visualized!\n",
    "\n",
    "In order to actually *see* our data points, let's project them in a two-dimensional space.\n",
    "To this aim, we can use [`PCA`](http://scikit-learn.org/stable/modules/generated/sklearn.decomposition.PCA.html)."
   ]
  },
  {
   "cell_type": "code",
   "execution_count": 10,
   "metadata": {
    "colab": {
     "base_uri": "https://localhost:8080/"
    },
    "executionInfo": {
     "elapsed": 316,
     "status": "ok",
     "timestamp": 1678700925719,
     "user": {
      "displayName": "Rosanna Turrisi",
      "userId": "01911198643618133016"
     },
     "user_tz": -60
    },
    "id": "2UZ1J039rtQY",
    "outputId": "25467d26-ad1d-492d-840f-aa5c715f3c40"
   },
   "outputs": [
    {
     "name": "stdout",
     "output_type": "stream",
     "text": [
      "Reduced X shape = (100, 2)\n"
     ]
    }
   ],
   "source": [
    "X_2D = PCA(n_components=2).fit_transform(X)\n",
    "print(\"Reduced X shape = {}\".format(X_2D.shape))"
   ]
  },
  {
   "cell_type": "markdown",
   "metadata": {
    "id": "vHittZV_sUVB"
   },
   "source": [
    "Let's now visualize our data points in a 2D plot."
   ]
  },
  {
   "cell_type": "code",
   "execution_count": 11,
   "metadata": {
    "colab": {
     "base_uri": "https://localhost:8080/",
     "height": 313
    },
    "executionInfo": {
     "elapsed": 853,
     "status": "ok",
     "timestamp": 1678700932411,
     "user": {
      "displayName": "Rosanna Turrisi",
      "userId": "01911198643618133016"
     },
     "user_tz": -60
    },
    "id": "f3K_hFClsTpM",
    "outputId": "a73ef61a-5a9d-4f6d-e2f1-953ba2f3efae"
   },
   "outputs": [
    {
     "data": {
      "text/plain": [
       "Text(0.5, 1.0, '2D Data (PCA)')"
      ]
     },
     "execution_count": 11,
     "metadata": {},
     "output_type": "execute_result"
    },
    {
     "data": {
      "image/png": "[encoded data removed]",
      "text/plain": [
       "<Figure size 576x396 with 1 Axes>"
      ]
     },
     "metadata": {},
     "output_type": "display_data"
    }
   ],
   "source": [
    "plt.plot(X_2D[:, 0], X_2D[:, 1], 'o', color='grey')\n",
    "plt.xlabel(\"$x_0$\")\n",
    "plt.ylabel(\"$x_1$\")\n",
    "plt.title('2D Data (PCA)')"
   ]
  },
  {
   "cell_type": "markdown",
   "metadata": {
    "id": "gyJM69r6tarC"
   },
   "source": [
    "We may also transform and plot data into 3D."
   ]
  },
  {
   "cell_type": "code",
   "execution_count": 12,
   "metadata": {
    "colab": {
     "base_uri": "https://localhost:8080/",
     "height": 292
    },
    "executionInfo": {
     "elapsed": 793,
     "status": "ok",
     "timestamp": 1678700946999,
     "user": {
      "displayName": "Rosanna Turrisi",
      "userId": "01911198643618133016"
     },
     "user_tz": -60
    },
    "id": "7veRRA7DteDs",
    "outputId": "940cbe9c-3da3-4dbe-d4eb-c6ddc264a97d"
   },
   "outputs": [
    {
     "name": "stdout",
     "output_type": "stream",
     "text": [
      "Reduced X shape = (100, 3)\n"
     ]
    },
    {
     "data": {
      "image/png": "[encoded data removed]",
      "text/plain": [
       "<Figure size 576x396 with 1 Axes>"
      ]
     },
     "metadata": {},
     "output_type": "display_data"
    }
   ],
   "source": [
    "X_3D = PCA(n_components=3).fit_transform(X)\n",
    "print(\"Reduced X shape = {}\".format(X_3D.shape))\n",
    "\n",
    "ax = plt.axes(projection='3d')\n",
    "ax.scatter3D(X_3D[:, 0], X_3D[:, 1],X_3D[:, 2], color='grey')\n",
    "ax.set_xlabel('$x_0$')\n",
    "ax.set_ylabel('$x_1$')\n",
    "ax.set_zlabel('$x_2$')\n",
    "ax.set_title('3D Data (PCA)');"
   ]
  },
  {
   "cell_type": "markdown",
   "metadata": {
    "id": "wtCQ1Q0GqO2E"
   },
   "source": [
    "### **Labels Y**\n",
    "\n",
    "Transform the list of labels into a vector"
   ]
  },
  {
   "cell_type": "code",
   "execution_count": 13,
   "metadata": {
    "colab": {
     "base_uri": "https://localhost:8080/"
    },
    "executionInfo": {
     "elapsed": 251,
     "status": "ok",
     "timestamp": 1678700953642,
     "user": {
      "displayName": "Rosanna Turrisi",
      "userId": "01911198643618133016"
     },
     "user_tz": -60
    },
    "id": "9qvndeD2p6A1",
    "outputId": "0a80c90c-6532-4c91-c214-1e9362bcb1ef"
   },
   "outputs": [
    {
     "name": "stdout",
     "output_type": "stream",
     "text": [
      "Y dimension: (100, 1)\n",
      "[['COAD']\n",
      " ['LUAD']\n",
      " ['COAD']\n",
      " ['KIRC']\n",
      " ['COAD']]\n"
     ]
    }
   ],
   "source": [
    "Y = labels.to_numpy()\n",
    "print('Y dimension:', Y.shape)\n",
    "print(Y[:5])"
   ]
  },
  {
   "cell_type": "markdown",
   "metadata": {
    "id": "PmMs8IGPqz7o"
   },
   "source": [
    "*REMARK*\n",
    "\n",
    "This is a vector of strings! \n",
    "If we adopt a supervised learning approach, in which the labels are used, we have to transform Y into a vector of numbers by assign a number to each category (e.g., 0 to 'PRAD', 1 to 'LUAD', etc)"
   ]
  },
  {
   "cell_type": "markdown",
   "metadata": {
    "id": "m-ptFCfCt7fe"
   },
   "source": [
    "**Data Visualization**\n",
    "\n",
    "When labels are known, we can visualize data by assigns different colors to samples with different labels. In this way, we can visualize data by groups."
   ]
  },
  {
   "cell_type": "code",
   "execution_count": 14,
   "metadata": {
    "colab": {
     "base_uri": "https://localhost:8080/",
     "height": 313
    },
    "executionInfo": {
     "elapsed": 318,
     "status": "ok",
     "timestamp": 1678700989151,
     "user": {
      "displayName": "Rosanna Turrisi",
      "userId": "01911198643618133016"
     },
     "user_tz": -60
    },
    "id": "r1wkqxLIPiJM",
    "outputId": "41028d62-40c8-4586-bd9b-e848aef99dbf"
   },
   "outputs": [
    {
     "data": {
      "text/plain": [
       "Text(0.5, 1.0, '2D Data (PCA)')"
      ]
     },
     "execution_count": 14,
     "metadata": {},
     "output_type": "execute_result"
    },
    {
     "data": {
      "image/png": "[encoded data removed]",
      "text/plain": [
       "<Figure size 576x396 with 1 Axes>"
      ]
     },
     "metadata": {},
     "output_type": "display_data"
    }
   ],
   "source": [
    "# 2D visualization\n",
    "for l in np.unique(Y):\n",
    "    idx = np.where(Y == l)[0]\n",
    "    plt.plot(X_2D[idx, 0], X_2D[idx, 1], 'o', label=l)\n",
    "plt.xlabel(\"$x_0$\")\n",
    "plt.ylabel(\"$x_1$\")\n",
    "plt.legend()\n",
    "plt.title('2D Data (PCA)')"
   ]
  },
  {
   "cell_type": "code",
   "execution_count": 15,
   "metadata": {
    "colab": {
     "base_uri": "https://localhost:8080/",
     "height": 275
    },
    "executionInfo": {
     "elapsed": 850,
     "status": "ok",
     "timestamp": 1678701004842,
     "user": {
      "displayName": "Rosanna Turrisi",
      "userId": "01911198643618133016"
     },
     "user_tz": -60
    },
    "id": "RuKp18BFxPBd",
    "outputId": "b3c02058-55fe-4f50-a3c7-ce87db038ae7"
   },
   "outputs": [
    {
     "data": {
      "image/png": "[encoded data removed]",
      "text/plain": [
       "<Figure size 576x396 with 1 Axes>"
      ]
     },
     "metadata": {},
     "output_type": "display_data"
    }
   ],
   "source": [
    "# 3D visualization\n",
    "ax = plt.axes(projection='3d')\n",
    "for label in np.unique(Y):\n",
    "    idx = np.where(Y == label)[0]\n",
    "    ax.scatter3D(X_3D[idx, 0], X_3D[idx, 1],X_3D[idx, 2], label = label)\n",
    "ax.set_xlabel('$x_0$')\n",
    "ax.set_ylabel('$x_1$')\n",
    "ax.set_zlabel('$x_2$')\n",
    "plt.legend()\n",
    "ax.set_title('3D Data (PCA)');"
   ]
  },
  {
   "cell_type": "markdown",
   "metadata": {
    "id": "T2v9xWxkPiJO"
   },
   "source": [
    "## **Unsupervised learning**: K-means clustering\n",
    "\n",
    "This part aims at trying very basic examples of data clustering via [`K-Means`](http://scikit-learn.org/stable/modules/generated/sklearn.cluster.KMeans.html). More examples can be found [here](http://scikit-learn.org/stable/modules/clustering.html).\n",
    "\n",
    "### Fixed number of clusters (``k``)\n",
    "\n",
    "[K-Means clustering](https://en.wikipedia.org/wiki/K-means_clustering) aims at partitioning `n` observations into `k` clusters in which each observation belongs to the cluster with the nearest mean, serving as a prototype of the cluster.\n",
    "\n",
    "The most important free parameter of the algorithm is the number of clusters `k` and it must be specifyed by the user. In general it is not known in advance and finding the optimal number of clusters in a generic data collection is still an [open problem in machine learning](http://stats.stackexchange.com/questions/23472/how-to-decide-on-the-correct-number-of-clusters).\n",
    "\n",
    "**<font color='red'>If we want to find clusters in which the RNA-Seq samples are gropud according to their tumor, which k do we choose? </font>**"
   ]
  },
  {
   "cell_type": "code",
   "execution_count": 16,
   "metadata": {
    "id": "CGd6qdziPiJO"
   },
   "outputs": [],
   "source": [
    "from sklearn.cluster import KMeans\n",
    "\n",
    "k = 5  # the number of tumors type\n",
    "kmeans = KMeans(n_clusters=k, n_init=10, random_state=42).fit(X, Y)"
   ]
  },
  {
   "cell_type": "markdown",
   "metadata": {
    "id": "HC5DPhVMPiJO"
   },
   "source": [
    "**Clusters visualization**\n",
    "\n",
    "To visualize our data, let's project it again into a 2D space. To see how good is the obtained cluster, we can \n",
    "* plot all data points and assign them colors based on their real label (i.e., the corresponding tumor) - as in the previous section\n",
    "* plot all data points but this time each point will be assigned to a different color according the resuls obtained by the model.\n",
    "\n",
    "In order to compare them and better appreciate what's happening, try to plot the two figures side-by-side."
   ]
  },
  {
   "cell_type": "code",
   "execution_count": 17,
   "metadata": {
    "colab": {
     "base_uri": "https://localhost:8080/",
     "height": 297
    },
    "executionInfo": {
     "elapsed": 786,
     "status": "ok",
     "timestamp": 1678702468898,
     "user": {
      "displayName": "Rosanna Turrisi",
      "userId": "01911198643618133016"
     },
     "user_tz": -60
    },
    "id": "QpHI5jQOyR3r",
    "outputId": "aab69258-a949-4220-b68f-c58e9da20762"
   },
   "outputs": [
    {
     "data": {
      "image/png": "[encoded data removed]",
      "text/plain": [
       "<Figure size 576x396 with 1 Axes>"
      ]
     },
     "metadata": {},
     "output_type": "display_data"
    }
   ],
   "source": [
    "# Estimated clusters\n",
    "colorlist = ['turquoise', 'plum', 'orange', 'midnightblue', 'darkgreen']\n",
    "i = 0\n",
    "for label in np.unique(kmeans.labels_):\n",
    "    idx = np.where(kmeans.labels_ == label)[0]\n",
    "    plt.plot(X_2D[idx, 0], X_2D[idx, 1], 'o', color=colorlist[i], label=label)\n",
    "    i +=1\n",
    "    \n",
    "plt.legend()\n",
    "plt.title('Estimated clusters')\n",
    "plt.tight_layout();"
   ]
  },
  {
   "cell_type": "markdown",
   "metadata": {
    "id": "1j5_4Io1zgQJ"
   },
   "source": [
    "## Case: Labels avilable\n",
    "We can compare the estimated clusters with the true labels"
   ]
  },
  {
   "cell_type": "code",
   "execution_count": 18,
   "metadata": {
    "colab": {
     "base_uri": "https://localhost:8080/",
     "height": 297
    },
    "executionInfo": {
     "elapsed": 1018,
     "status": "ok",
     "timestamp": 1678702475441,
     "user": {
      "displayName": "Rosanna Turrisi",
      "userId": "01911198643618133016"
     },
     "user_tz": -60
    },
    "id": "zHD_gxn7PiJP",
    "outputId": "65e98b0c-aa13-464c-8696-550aadfaaac0"
   },
   "outputs": [
    {
     "data": {
      "image/png": "[encoded data removed]",
      "text/plain": [
       "<Figure size 864x288 with 2 Axes>"
      ]
     },
     "metadata": {},
     "output_type": "display_data"
    }
   ],
   "source": [
    "plt.figure(figsize=(12, 4))\n",
    "\n",
    "plt.subplot(121)\n",
    "colorlist = ['turquoise', 'plum', 'orange', 'midnightblue', 'darkgreen']\n",
    "i = 0\n",
    "for label in np.unique(kmeans.labels_):\n",
    "    idx = np.where(kmeans.labels_ == label)[0]\n",
    "    plt.plot(X_2D[idx, 0], X_2D[idx, 1], 'o', color=colorlist[i], label=label)\n",
    "    i +=1\n",
    "plt.title('Estimated clusters')\n",
    "plt.legend()\n",
    "\n",
    "\n",
    "# Real labels\n",
    "plt.subplot(122)\n",
    "for label in np.unique(Y):\n",
    "    idx = np.where(Y == label)[0]\n",
    "    plt.plot(X_2D[idx, 0], X_2D[idx, 1], 'o', label=label)\n",
    "plt.title('Real labels')\n",
    "plt.legend()\n",
    "plt.tight_layout();\n",
    "\n"
   ]
  },
  {
   "cell_type": "markdown",
   "metadata": {
    "id": "xU5GfSabPiJP"
   },
   "source": [
    "**<font color='red'>Are you satisfied with the obtained results?</font>**\n",
    "\n",
    "### 2.2 Model assessment\n",
    "\n",
    "In order to answer to the question above, let's perform some **quantiative** analysis of the results. In literature several [clustering performance evaluation metrics](http://scikit-learn.org/stable/modules/clustering.html#clustering-performance-evaluation) were proposed. In the following we look at five of them.\n",
    "\n",
    "\n",
    "Measures requiring the labels:\n",
    "> * [Homogeneity](http://scikit-learn.org/stable/modules/generated/sklearn.metrics.homogeneity_score.html#sklearn.metrics.homogeneity_score): a clustering result satisfies homogeneity if all of its clusters contain only data points which are members of a single class.\n",
    "* [Completeness](http://scikit-learn.org/stable/modules/generated/sklearn.metrics.completeness_score.html#sklearn.metrics.completeness_score): a clustering result satisfies completeness if all the data points that are members of a given class are elements of the same cluster.\n",
    "* [V-measure](http://scikit-learn.org/stable/modules/generated/sklearn.metrics.v_measure_score.html#sklearn.metrics.v_measure_score): harmonic mean between homogeneity and completeness.\n",
    "* [Adjusted Rand Index (ARI)](http://scikit-learn.org/stable/modules/generated/sklearn.metrics.adjusted_rand_score.html#sklearn.metrics.adjusted_rand_score): a similarity measure between two groups by considering all pairs of samples and counting pairs that are assigned in the same or different groups in the predicted cluster and true class. This value is equal to 0 when points are assigned into clusters randomly and it is equals to 1 when the clusterings/classes are same.\n",
    "\n",
    "\n",
    "Completely unsupervised measure:\n",
    "> * [Silhouette](http://scikit-learn.org/stable/modules/generated/sklearn.metrics.silhouette_score.html#sklearn.metrics.silhouette_score): see below.\n",
    "\n",
    "\n"
   ]
  },
  {
   "cell_type": "markdown",
   "metadata": {
    "id": "9i_Lhf-v1NJE"
   },
   "source": [
    "## Case: Labels avilable\n",
    "We can compare the estimated clusters with the true labels. Let's write a simple function `assessment(X, y_true, y_pred)` that returns all the metrics above on a given clustering."
   ]
  },
  {
   "cell_type": "code",
   "execution_count": 19,
   "metadata": {
    "id": "eYbCz9X5PiJQ"
   },
   "outputs": [],
   "source": [
    "def assessment(X, y_true, y_pred):\n",
    "    \"\"\"Measure the quality of a clustering result.\"\"\"\n",
    "    homogeneity, completeness, v_measure = metrics.homogeneity_completeness_v_measure(y_true.ravel(), y_pred.ravel())\n",
    "    ari = metrics.adjusted_rand_score(y_true.ravel(), y_pred.ravel())\n",
    "    return homogeneity, completeness, v_measure, ari"
   ]
  },
  {
   "cell_type": "markdown",
   "metadata": {
    "id": "Nk7jbvD2PiJR"
   },
   "source": [
    "Assess the quality of the clustering results obtained above."
   ]
  },
  {
   "cell_type": "code",
   "execution_count": 20,
   "metadata": {
    "colab": {
     "base_uri": "https://localhost:8080/"
    },
    "executionInfo": {
     "elapsed": 7,
     "status": "ok",
     "timestamp": 1678702149057,
     "user": {
      "displayName": "Rosanna Turrisi",
      "userId": "01911198643618133016"
     },
     "user_tz": -60
    },
    "id": "p8zHKS6zPiJR",
    "outputId": "59d6d442-4c22-453f-dfb7-81a0c902695b"
   },
   "outputs": [
    {
     "name": "stdout",
     "output_type": "stream",
     "text": [
      "Scores:\n",
      "- homogeneity: 0.931\n",
      "- completeness: 0.918\n",
      "- v_measure: 0.924\n",
      "- ARI: 0.883\n",
      "\n"
     ]
    }
   ],
   "source": [
    "homogeneity, completeness, v_measure, ari = assessment(X, Y, kmeans.labels_)\n",
    "\n",
    "print(\"Scores:\\n- homogeneity: {:.3f}\\n- completeness: {:.3f}\\n- v_measure: {:.3f}\\n- ARI: {:.3f}\\n\".format(homogeneity, completeness, v_measure, ari))"
   ]
  },
  {
   "cell_type": "markdown",
   "metadata": {
    "id": "YOAj9HWqPiJP"
   },
   "source": [
    "## Case: Labels are not available\n",
    "\n",
    "### Silhouette analysis\n",
    "\n",
    "Silhouette analysis can be used to study the separation distance between groups of samples. The silhouette value is a measure of how similar an object is to its own cluster (compactness) compared to other clusters (separability) and it is computed in the following way.\n",
    "\n",
    "Let $b(i)$ be the lowest average distance of the point $i$ from all the other points in any other cluster of which $i$ is not a member and $a(i)$ the average distance of the point $i$ wrt all the other points in its own cluster. Then the silhouette of $i$ is defined as \n",
    "$$\\frac{b(i)-a(i)}{max(a(i), b(i))}$$\n",
    "\n",
    "The silhouette ranges from −1 to +1, where a high value indicates that the object is well matched to its own cluster and poorly matched to neighboring clusters. If most objects have a high value, then the clustering configuration is appropriate. If many points have a low or negative value, then the clustering configuration may have too many or too few clusters.\n",
    "\n",
    "The silhouette plot displays a measure of how close each point in one cluster is to points in the neighboring clusters and thus provides a way to assess *compactness* and *separability* of each cluster. \n",
    "\n",
    "To make things easier load the provided `yellowbrick.cluster` module, and try the `SilhouetteVisualizer` function."
   ]
  },
  {
   "cell_type": "code",
   "execution_count": 21,
   "metadata": {
    "colab": {
     "base_uri": "https://localhost:8080/",
     "height": 300
    },
    "executionInfo": {
     "elapsed": 256,
     "status": "ok",
     "timestamp": 1678702497078,
     "user": {
      "displayName": "Rosanna Turrisi",
      "userId": "01911198643618133016"
     },
     "user_tz": -60
    },
    "id": "YothjeNnPiJQ",
    "outputId": "af4276bf-0623-47b6-ea9f-692a33eb2498"
   },
   "outputs": [
    {
     "name": "stdout",
     "output_type": "stream",
     "text": [
      "silhouette: 0.259\n",
      "\n"
     ]
    },
    {
     "data": {
      "image/png": "[encoded data removed]",
      "text/plain": [
       "<Figure size 576x396 with 1 Axes>"
      ]
     },
     "metadata": {},
     "output_type": "display_data"
    }
   ],
   "source": [
    "from yellowbrick.cluster import SilhouetteVisualizer\n",
    "visualizer = SilhouetteVisualizer(kmeans, colors='yellowbrick').fit(X)\n",
    "sil = metrics.silhouette_score(X, kmeans.labels_)\n",
    "print(\"silhouette: {:.3f}\\n\".format(sil))"
   ]
  },
  {
   "cell_type": "markdown",
   "metadata": {
    "id": "uwMW-eyEPiJS"
   },
   "source": [
    "## **One step further: Best `k` selection**\n",
    "\n",
    "In this section we will pretend that the optimal number of clusters `k` is actually unknown. A sensible choice would be to **learn it** by choosing the one that optimizes some metric. **<font color='red'>Which one would you pick?</font>**\n",
    "\n",
    "The only purely unsupervised metric we saw is the Silhouette score. So let's write a function that chooses the optimal number of clusters `k` via grid search as the one that **maximizes** the Silhouette score."
   ]
  },
  {
   "cell_type": "code",
   "execution_count": 22,
   "metadata": {
    "id": "frY77vyPPiJT"
   },
   "outputs": [],
   "source": [
    "def find_best_k(X, k_range, random_state=42):\n",
    "    \"\"\"Find the best k via grid search optmizing the Silhouette score.\"\"\"\n",
    "    silhouette_scores = []\n",
    "    for k in k_range:\n",
    "        kmeans = KMeans(n_clusters=k, n_init=10, random_state=random_state).fit(X)\n",
    "        sil = metrics.silhouette_score(X, kmeans.labels_.ravel())\n",
    "        print('k=' + str(k) + ', silhouette score=' + str(sil))\n",
    "        silhouette_scores.append(sil)\n",
    "    print('')\n",
    "    return k_range[np.argmax(silhouette_scores)]"
   ]
  },
  {
   "cell_type": "markdown",
   "metadata": {
    "id": "C4M5s_v4PiJT"
   },
   "source": [
    "Test your function on `X`: find the best `k` and run the model assessment."
   ]
  },
  {
   "cell_type": "code",
   "execution_count": 23,
   "metadata": {
    "colab": {
     "base_uri": "https://localhost:8080/"
    },
    "executionInfo": {
     "elapsed": 3391,
     "status": "ok",
     "timestamp": 1678702522649,
     "user": {
      "displayName": "Rosanna Turrisi",
      "userId": "01911198643618133016"
     },
     "user_tz": -60
    },
    "id": "JNr-Ti_UPiJT",
    "outputId": "35cfa11b-10d5-4d52-a29d-d563f99c5253"
   },
   "outputs": [
    {
     "name": "stdout",
     "output_type": "stream",
     "text": [
      "k=2, silhouette score=0.21940039995966532\n",
      "k=3, silhouette score=0.20514888453418456\n",
      "k=4, silhouette score=0.2392331203837343\n",
      "k=5, silhouette score=0.25923897587525396\n",
      "k=6, silhouette score=0.21371327476847896\n",
      "k=7, silhouette score=0.21345059866727148\n",
      "k=8, silhouette score=0.20493749531877944\n",
      "k=9, silhouette score=0.15598510593387754\n",
      "k=10, silhouette score=0.1757573600238966\n",
      "k=11, silhouette score=0.10200996124856751\n",
      "\n",
      "k_best is 5\n",
      "Scores:\n",
      "- homogeneity: 0.931\n",
      "- completeness: 0.918\n",
      "- v_measure: 0.924\n",
      "- ari: 0.883\n",
      "- silhouette: 0.259\n"
     ]
    }
   ],
   "source": [
    "k_best = find_best_k(X, k_range=np.arange(2, 12))\n",
    "print('k_best is {}'.format(k_best))\n",
    "\n",
    "y_pred = KMeans(n_clusters=k_best, random_state=42, n_init=10).fit(X).labels_\n",
    "homogeneity, completeness, v_measure, ari = assessment(X, Y, y_pred)\n",
    "sil = metrics.silhouette_score(X, y_pred)\n",
    "print(\"Scores:\\n- homogeneity: {:.3f}\\n- completeness: {:.3f}\\n- v_measure: {:.3f}\\n- ari: {:.3f}\\n- silhouette: {:.3f}\".format(homogeneity, completeness, v_measure, ari, sil))"
   ]
  },
  {
   "cell_type": "markdown",
   "metadata": {},
   "source": [
    "## **Resampling stability**\n",
    "\n",
    "In Machine Learning, we typically split the dataset into learning and testing set, in order to ensure model generalization to new data. This split may effect the learning peformance. This section evaluates the effect of changing the learning set by resampling the available data with the function random_sampling several times.\n",
    "\n",
    "**<font color='red'>What do you expect?</font>**\n"
   ]
  },
  {
   "cell_type": "code",
   "execution_count": 30,
   "metadata": {},
   "outputs": [],
   "source": [
    "from sklearn.model_selection import StratifiedShuffleSplit\n",
    "def random_sampling(X, y, n_samples):\n",
    "    \"\"\"Extract n_samples from X and y.\"\"\"\n",
    "    _, idx = next(StratifiedShuffleSplit(n_splits=1, test_size=n_samples).split(X, y))\n",
    "    return X[idx, :], y[idx]"
   ]
  },
  {
   "cell_type": "code",
   "execution_count": 33,
   "metadata": {},
   "outputs": [
    {
     "name": "stdout",
     "output_type": "stream",
     "text": [
      "k=2, silhouette score=0.21060795973559684\n",
      "k=3, silhouette score=0.20591719013413098\n",
      "k=4, silhouette score=0.23493796262209418\n",
      "k=5, silhouette score=0.25500566451874496\n",
      "k=6, silhouette score=0.21009542046438592\n",
      "k=7, silhouette score=0.19622465455322655\n",
      "k=8, silhouette score=0.18010135283175943\n",
      "k=9, silhouette score=0.17337043231290564\n",
      "k=10, silhouette score=0.1431720846001498\n",
      "k=11, silhouette score=0.15331227638210024\n",
      "\n",
      "k=2, silhouette score=0.2307682860862956\n",
      "k=3, silhouette score=0.2161117249281915\n",
      "k=4, silhouette score=0.24815845643093906\n",
      "k=5, silhouette score=0.27277074819340985\n",
      "k=6, silhouette score=0.2552358736562624\n",
      "k=7, silhouette score=0.21810220176889955\n",
      "k=8, silhouette score=0.17527840187525418\n",
      "k=9, silhouette score=0.16961861577744264\n",
      "k=10, silhouette score=0.1727731137960261\n",
      "k=11, silhouette score=0.16741284425862568\n",
      "\n",
      "k=2, silhouette score=0.2236490112269031\n",
      "k=3, silhouette score=0.20043343493853602\n",
      "k=4, silhouette score=0.2348841009693247\n",
      "k=5, silhouette score=0.2567082909642497\n",
      "k=6, silhouette score=0.24145062210364493\n",
      "k=7, silhouette score=0.21523165790885065\n",
      "k=8, silhouette score=0.20401306426200097\n",
      "k=9, silhouette score=0.16900606131039733\n",
      "k=10, silhouette score=0.1454048418174727\n",
      "k=11, silhouette score=0.1382794542207082\n",
      "\n",
      "k=2, silhouette score=0.2201395556453357\n",
      "k=3, silhouette score=0.19593032492036827\n",
      "k=4, silhouette score=0.22818707816479356\n",
      "k=5, silhouette score=0.24763615100921393\n",
      "k=6, silhouette score=0.23144062435819948\n",
      "k=7, silhouette score=0.15924873372371132\n",
      "k=8, silhouette score=0.1643466673014443\n",
      "k=9, silhouette score=0.17023130242685436\n",
      "k=10, silhouette score=0.15457763101233193\n",
      "k=11, silhouette score=0.15024871817737115\n",
      "\n",
      "k=2, silhouette score=0.22084904150617612\n",
      "k=3, silhouette score=0.2080436624389672\n",
      "k=4, silhouette score=0.24281112342211952\n",
      "k=5, silhouette score=0.2691512537483751\n",
      "k=6, silhouette score=0.21222040395521968\n",
      "k=7, silhouette score=0.20184302676244845\n",
      "k=8, silhouette score=0.19618563270624004\n",
      "k=9, silhouette score=0.1733166392374183\n",
      "k=10, silhouette score=0.18458961935346493\n",
      "k=11, silhouette score=0.1400646749506688\n",
      "\n",
      "k=2, silhouette score=0.22135699062959294\n",
      "k=3, silhouette score=0.20750398174107293\n",
      "k=4, silhouette score=0.24813355810070545\n",
      "k=5, silhouette score=0.27630947259630556\n",
      "k=6, silhouette score=0.2324382231888242\n",
      "k=7, silhouette score=0.21827109138599085\n",
      "k=8, silhouette score=0.19629554442184455\n",
      "k=9, silhouette score=0.18158429209892626\n",
      "k=10, silhouette score=0.13798149871820892\n",
      "k=11, silhouette score=0.10924189132763511\n",
      "\n",
      "k=2, silhouette score=0.22561488436140756\n",
      "k=3, silhouette score=0.21133767649013988\n",
      "k=4, silhouette score=0.23863694430085652\n",
      "k=5, silhouette score=0.2604168255013658\n",
      "k=6, silhouette score=0.2168046477314892\n",
      "k=7, silhouette score=0.2045058870632545\n",
      "k=8, silhouette score=0.17880797474099377\n",
      "k=9, silhouette score=0.19298344394786104\n",
      "k=10, silhouette score=0.17929296063418046\n",
      "k=11, silhouette score=0.1703415816330117\n",
      "\n",
      "k=2, silhouette score=0.22087073754252035\n",
      "k=3, silhouette score=0.1869744520485095\n",
      "k=4, silhouette score=0.23789039202536583\n",
      "k=5, silhouette score=0.26087068865447255\n",
      "k=6, silhouette score=0.22216426070117393\n",
      "k=7, silhouette score=0.22085745245892752\n",
      "k=8, silhouette score=0.20908907215964284\n",
      "k=9, silhouette score=0.2034181811417498\n",
      "k=10, silhouette score=0.1455442799795398\n",
      "k=11, silhouette score=0.16737007336162799\n",
      "\n",
      "k=2, silhouette score=0.21652213305568271\n",
      "k=3, silhouette score=0.20601757138022164\n",
      "k=4, silhouette score=0.2386880166285663\n",
      "k=5, silhouette score=0.2611886989319656\n",
      "k=6, silhouette score=0.20630054052378524\n",
      "k=7, silhouette score=0.2025631076725606\n",
      "k=8, silhouette score=0.19535427605651326\n",
      "k=9, silhouette score=0.1773990117012976\n",
      "k=10, silhouette score=0.15900752117453548\n",
      "k=11, silhouette score=0.14825726229993305\n",
      "\n",
      "k=2, silhouette score=0.21216741891538649\n",
      "k=3, silhouette score=0.19721733619992768\n",
      "k=4, silhouette score=0.2306814574827662\n",
      "k=5, silhouette score=0.2559040490082302\n",
      "k=6, silhouette score=0.211675111008272\n",
      "k=7, silhouette score=0.20437595562624708\n",
      "k=8, silhouette score=0.1813825222794665\n",
      "k=9, silhouette score=0.17180270541857592\n",
      "k=10, silhouette score=0.13935720450587338\n",
      "k=11, silhouette score=0.1313450186510966\n",
      "\n"
     ]
    }
   ],
   "source": [
    "N = 10 # the number of resampling operations\n",
    "k_range = np.arange(2,12)\n",
    "n = 70 # the number of samples extracted each time\n",
    "\n",
    "# containers for our results\n",
    "results = {'best_k': [],\n",
    "           'homogeneity': [],\n",
    "           'completeness': [],\n",
    "           'v_measure': [],\n",
    "           'ari': [],\n",
    "           'silhouette': []}\n",
    "\n",
    "# Run the N pipelines\n",
    "for i in range(N):\n",
    "    X_i, y_i = random_sampling(X, Y, n_samples=n)\n",
    "\n",
    "    k_best = find_best_k(X_i, k_range=k_range)\n",
    "    y_pred_i = KMeans(n_clusters=k_best).fit(X_i).labels_\n",
    "    homogeneity, completeness, v_measure, ari = assessment(X_i, y_i, y_pred_i)\n",
    "    sil = metrics.silhouette_score(X, y_pred)\n",
    "\n",
    "    results['best_k'].append(k_best)\n",
    "    results['homogeneity'].append(homogeneity)\n",
    "    results['completeness'].append(completeness)\n",
    "    results['v_measure'].append(v_measure)\n",
    "    results['ari'].append(ari)\n",
    "    results['silhouette'].append(sil)"
   ]
  },
  {
   "cell_type": "markdown",
   "metadata": {},
   "source": [
    "Let's plot the obtained results!"
   ]
  },
  {
   "cell_type": "code",
   "execution_count": 34,
   "metadata": {},
   "outputs": [
    {
     "data": {
      "image/png": "[encoded data removed]",
      "text/plain": [
       "<Figure size 1080x576 with 3 Axes>"
      ]
     },
     "metadata": {},
     "output_type": "display_data"
    }
   ],
   "source": [
    "from collections import Counter\n",
    "\n",
    "plt.figure(figsize=(15,8))\n",
    "plt.subplot(131)\n",
    "bp = plt.boxplot([results['homogeneity'], results['completeness'], results['v_measure'], results['ari']]);\n",
    "plt.xticks(range(1, 5), ['homogeneity', 'completeness', 'v_measure', 'ari']);\n",
    "plt.ylim([0,1.01])\n",
    "\n",
    "plt.subplot(132)\n",
    "plt.boxplot([results['silhouette']]);\n",
    "plt.xticks([1], ['silhouette']);\n",
    "plt.ylim([0,1.01])\n",
    "\n",
    "plt.subplot(133)\n",
    "counts = Counter(results['best_k'])\n",
    "plt.stem(list(counts.keys()), list(counts.values()))\n",
    "plt.xticks(list(range(min(counts.keys())-1, max(counts.keys())+2)))\n",
    "plt.xlabel(\"best k\")\n",
    "plt.ylabel('Number of counts in {} runs'.format(N))\n",
    "\n",
    "plt.tight_layout()\n",
    "plt.show()"
   ]
  }
 ],
 "metadata": {
  "accelerator": "GPU",
  "anaconda-cloud": {},
  "colab": {
   "provenance": []
  },
  "gpuClass": "standard",
  "kernelspec": {
   "display_name": "Python 3",
   "language": "python",
   "name": "python3"
  },
  "language_info": {
   "codemirror_mode": {
    "name": "ipython",
    "version": 3
   },
   "file_extension": ".py",
   "mimetype": "text/x-python",
   "name": "python",
   "nbconvert_exporter": "python",
   "pygments_lexer": "ipython3",
   "version": "3.8.8"
  }
 },
 "nbformat": 4,
 "nbformat_minor": 1
}
